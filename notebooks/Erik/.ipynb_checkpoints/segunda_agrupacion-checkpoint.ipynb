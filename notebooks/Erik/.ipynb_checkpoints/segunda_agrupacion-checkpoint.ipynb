{
 "cells": [
  {
   "cell_type": "code",
   "execution_count": 1,
   "metadata": {
    "id": "QOSVPqnuYUiB"
   },
   "outputs": [],
   "source": [
    "from sklearn.datasets import make_blobs, make_moons\n",
    "from sklearn.cluster import KMeans\n",
    "from sklearn.cluster import AgglomerativeClustering\n",
    "from sklearn.cluster import DBSCAN\n",
    "import pandas as pd\n",
    "import numpy as np\n",
    "import matplotlib.pyplot as plt"
   ]
  },
  {
   "cell_type": "code",
   "execution_count": 2,
   "metadata": {
    "colab": {
     "base_uri": "https://localhost:8080/"
    },
    "collapsed": true,
    "id": "KH9u5wXKYYzE",
    "outputId": "02fcff23-c030-4e0f-d8fb-42b1897f67cf"
   },
   "outputs": [
    {
     "name": "stdout",
     "output_type": "stream",
     "text": [
      "<class 'pandas.core.frame.DataFrame'>\n",
      "RangeIndex: 180219 entries, 0 to 180218\n",
      "Data columns (total 48 columns):\n",
      " #   Column      Non-Null Count   Dtype  \n",
      "---  ------      --------------   -----  \n",
      " 0   ID          180219 non-null  object \n",
      " 1   EDO         180219 non-null  int64  \n",
      " 2   MES         180219 non-null  int64  \n",
      " 3   ANIO        180219 non-null  int64  \n",
      " 4   MPIO        180219 non-null  int64  \n",
      " 5   HORA        180219 non-null  int64  \n",
      " 6   MINUTOS     180219 non-null  int64  \n",
      " 7   DIA         180219 non-null  int64  \n",
      " 8   DIASEMANA   180219 non-null  int64  \n",
      " 9   URBANA      180219 non-null  int64  \n",
      " 10  SUBURBANA   180219 non-null  int64  \n",
      " 11  TIPACCID    180219 non-null  int64  \n",
      " 12  AUTOMOVIL   180219 non-null  int64  \n",
      " 13  CAMPASAJ    180219 non-null  int64  \n",
      " 14  MICROBUS    180219 non-null  int64  \n",
      " 15  PASCAMION   180219 non-null  int64  \n",
      " 16  OMNIBUS     180219 non-null  int64  \n",
      " 17  TRANVIA     180219 non-null  int64  \n",
      " 18  CAMIONETA   180219 non-null  int64  \n",
      " 19  CAMION      180219 non-null  int64  \n",
      " 20  TRACTOR     180219 non-null  int64  \n",
      " 21  FERROCARRI  180219 non-null  int64  \n",
      " 22  MOTOCICLET  180219 non-null  int64  \n",
      " 23  BICICLETA   180219 non-null  int64  \n",
      " 24  OTROVEHIC   180219 non-null  int64  \n",
      " 25  CAUSAACCI   180219 non-null  int64  \n",
      " 26  CAPAROD     180219 non-null  int64  \n",
      " 27  SEXO        180219 non-null  int64  \n",
      " 28  ALIENTO     180219 non-null  int64  \n",
      " 29  CINTURON    180219 non-null  int64  \n",
      " 30  EDAD        180219 non-null  int64  \n",
      " 31  CONDMUERTO  180219 non-null  int64  \n",
      " 32  CONDHERIDO  180219 non-null  int64  \n",
      " 33  PASAMUERTO  180219 non-null  int64  \n",
      " 34  PASAHERIDO  180219 non-null  int64  \n",
      " 35  PEATMUERTO  180219 non-null  int64  \n",
      " 36  PEATHERIDO  180219 non-null  int64  \n",
      " 37  CICLMUERTO  180219 non-null  int64  \n",
      " 38  CICLHERIDO  180219 non-null  int64  \n",
      " 39  OTROMUERTO  180219 non-null  int64  \n",
      " 40  OTROHERIDO  180219 non-null  int64  \n",
      " 41  TOTMUERTOS  180219 non-null  int64  \n",
      " 42  TOTHERIDOS  180219 non-null  int64  \n",
      " 43  CLASE       180219 non-null  int64  \n",
      " 44  CALLE1      180219 non-null  object \n",
      " 45  CALLE2      175938 non-null  object \n",
      " 46  LONGITUD    180219 non-null  float64\n",
      " 47  LATITUD     180219 non-null  float64\n",
      "dtypes: float64(2), int64(43), object(3)\n",
      "memory usage: 66.0+ MB\n"
     ]
    },
    {
     "name": "stderr",
     "output_type": "stream",
     "text": [
      "<ipython-input-2-19b64c38e5df>:1: DtypeWarning: Columns (0) have mixed types. Specify dtype option on import or set low_memory=False.\n",
      "  df = pd.read_csv('/content/nacional.csv')\n"
     ]
    }
   ],
   "source": [
    "df = pd.read_csv('/content/nacional.csv')\n",
    "df.info()"
   ]
  },
  {
   "cell_type": "code",
   "execution_count": 3,
   "metadata": {
    "colab": {
     "base_uri": "https://localhost:8080/",
     "height": 492
    },
    "id": "J0ix_-QLsZg-",
    "outputId": "a1837a85-a689-4f76-8a29-a34345a4ce1e"
   },
   "outputs": [
    {
     "data": {
      "text/html": [
       "<div>\n",
       "<style scoped>\n",
       "    .dataframe tbody tr th:only-of-type {\n",
       "        vertical-align: middle;\n",
       "    }\n",
       "\n",
       "    .dataframe tbody tr th {\n",
       "        vertical-align: top;\n",
       "    }\n",
       "\n",
       "    .dataframe thead th {\n",
       "        text-align: right;\n",
       "    }\n",
       "</style>\n",
       "<table border=\"1\" class=\"dataframe\">\n",
       "  <thead>\n",
       "    <tr style=\"text-align: right;\">\n",
       "      <th></th>\n",
       "      <th>count</th>\n",
       "    </tr>\n",
       "    <tr>\n",
       "      <th>TIPACCID</th>\n",
       "      <th></th>\n",
       "    </tr>\n",
       "  </thead>\n",
       "  <tbody>\n",
       "    <tr>\n",
       "      <th>1</th>\n",
       "      <td>125207</td>\n",
       "    </tr>\n",
       "    <tr>\n",
       "      <th>4</th>\n",
       "      <td>24419</td>\n",
       "    </tr>\n",
       "    <tr>\n",
       "      <th>10</th>\n",
       "      <td>16789</td>\n",
       "    </tr>\n",
       "    <tr>\n",
       "      <th>2</th>\n",
       "      <td>5905</td>\n",
       "    </tr>\n",
       "    <tr>\n",
       "      <th>11</th>\n",
       "      <td>2077</td>\n",
       "    </tr>\n",
       "    <tr>\n",
       "      <th>5</th>\n",
       "      <td>1871</td>\n",
       "    </tr>\n",
       "    <tr>\n",
       "      <th>12</th>\n",
       "      <td>1729</td>\n",
       "    </tr>\n",
       "    <tr>\n",
       "      <th>7</th>\n",
       "      <td>1245</td>\n",
       "    </tr>\n",
       "    <tr>\n",
       "      <th>6</th>\n",
       "      <td>676</td>\n",
       "    </tr>\n",
       "    <tr>\n",
       "      <th>3</th>\n",
       "      <td>124</td>\n",
       "    </tr>\n",
       "    <tr>\n",
       "      <th>9</th>\n",
       "      <td>102</td>\n",
       "    </tr>\n",
       "    <tr>\n",
       "      <th>8</th>\n",
       "      <td>75</td>\n",
       "    </tr>\n",
       "  </tbody>\n",
       "</table>\n",
       "</div><br><label><b>dtype:</b> int64</label>"
      ],
      "text/plain": [
       "TIPACCID\n",
       "1     125207\n",
       "4      24419\n",
       "10     16789\n",
       "2       5905\n",
       "11      2077\n",
       "5       1871\n",
       "12      1729\n",
       "7       1245\n",
       "6        676\n",
       "3        124\n",
       "9        102\n",
       "8         75\n",
       "Name: count, dtype: int64"
      ]
     },
     "execution_count": 3,
     "metadata": {},
     "output_type": "execute_result"
    }
   ],
   "source": [
    "accident_frequencies = df['TIPACCID'].value_counts()\n",
    "\n",
    "# Display the frequencies\n",
    "accident_frequencies\n"
   ]
  },
  {
   "cell_type": "code",
   "execution_count": 4,
   "metadata": {
    "id": "5o0ha_c0aenm"
   },
   "outputs": [],
   "source": [
    "# prompt: haz subsampling en \"TIPACCID\" (1) y en \"CAUSAACCI\" (1)\n",
    "\n",
    "# Check for unique values in 'TIPACCID' and 'CAUSAACCI'\n",
    "#print(df['TIPACCID'].unique())\n",
    "#print(df['CAUSAACCI'].unique())\n",
    "\n",
    "# If there are too many unique values, consider subsampling or other dimensionality reduction techniques.\n",
    "# Example of subsampling 'TIPACCID' (replace with your preferred method):\n",
    "\n",
    "# 1. Random Subsampling\n",
    "#fraction = 0.2 # Adjust the fraction as needed\n",
    "#df_subsampled = df.groupby('TIPACCID', group_keys=False).apply(lambda x: x.sample(frac=fraction))\n",
    "\n",
    "# 2. Stratified Sampling (if you need proportional representation from each TIPACCID)\n",
    "#from sklearn.model_selection import train_test_split\n",
    "#df_subsampled = df.groupby('TIPACCID').apply(lambda x: x.sample(frac=0.2, random_state=1)).reset_index(drop=True)\n",
    "\n",
    "# Display the subsampled data\n",
    "#print(df_subsampled.head())\n",
    "\n",
    "# Do the same for 'CAUSAACCI',  consider different sampling strategies depending on your needs\n"
   ]
  },
  {
   "cell_type": "code",
   "execution_count": null,
   "metadata": {
    "colab": {
     "base_uri": "https://localhost:8080/"
    },
    "id": "lN-aW-7os9NL",
    "outputId": "0bd7bbd0-4075-41fe-f608-2130367fc8de"
   },
   "outputs": [
    {
     "name": "stdout",
     "output_type": "stream",
     "text": [
      "Distribución original: Counter({1: 125207, 4: 24419, 10: 16789, 2: 5905, 11: 2077, 5: 1871, 12: 1729, 7: 1245, 6: 676, 3: 124, 9: 102, 8: 75})\n"
     ]
    }
   ],
   "source": [
    "import pandas as pd\n",
    "from collections import Counter\n",
    "from imblearn.combine import SMOTEENN\n",
    "from imblearn.combine import SMOTEENN\n",
    "from imblearn.over_sampling import SMOTE # Import SMOTE\n",
    "print(\"Distribución original:\", Counter(df[\"TIPACCID\"]))\n",
    "\n",
    "# Separar features (X) y target (y)\n",
    "X = df.drop([\"TIPACCID\", \"CALLE1\", \"CALLE2\"], axis=1)  # Todas las columnas excepto TIPACCID, CALL1, CALL2\n",
    "y = df[\"TIPACCID\"]  # Variable objetivo\n",
    "\n",
    "# Configurar SMOTEENN\n",
    "smote_enn = SMOTEENN(\n",
    "    sampling_strategy=\"auto\",  # Equilibra todas las clases\n",
    "    random_state=42,           # Para reproducibilidad\n",
    "    smote=SMOTE(k_neighbors=5) # Número de vecinos para SMOTE (ajustable)\n",
    ")\n",
    "\n",
    "# Aplicar el remuestreo\n",
    "X_resampled, y_resampled = smote_enn.fit_resample(X, y)\n",
    "\n",
    "# Convertir a DataFrame\n",
    "accidentes_balanced = pd.DataFrame(X_resampled, columns=X.columns)\n",
    "accidentes_balanced[\"TIPACCID\"] = y_resampled\n",
    "\n",
    "# Ver distribución final\n",
    "print(\"Distribución después de SMOTEENN:\", Counter(y_resampled))"
   ]
  },
  {
   "cell_type": "code",
   "execution_count": null,
   "metadata": {
    "id": "Peg-5WgOAFQ7"
   },
   "outputs": [],
   "source": [
    "import pandas as pd\n",
    "from collections import Counter\n",
    "from imblearn.under_sampling import RandomUnderSampler\n",
    "from imblearn.over_sampling import SMOTE\n",
    "from imblearn.pipeline import Pipeline\n",
    "\n",
    "# Ver distribución original\n",
    "print(\"Distribución original:\", Counter(df[\"TIPACCID\"]))\n",
    "\n",
    "# Muestra del 30% para pruebas rápidas (opcional)\n",
    "accidentes_sample = df.sample(frac=0.3, random_state=42)\n",
    "X = accidentes_sample.drop([\"TIPACCID\", \"CALLE1\", \"CALLE2\"], axis=1)\n",
    "y = accidentes_sample[\"TIPACCID\"]\n",
    "\n",
    "# --- ESTRATEGIA DE BALANCEO ---\n",
    "# 1. Reducir \"Colisión\" (mayoritaria) a 50,000 (ajusta este número)\n",
    "import pandas as pd\n",
    "from collections import Counter\n",
    "from imblearn.under_sampling import RandomUnderSampler\n",
    "from imblearn.over_sampling import SMOTE\n",
    "from imblearn.pipeline import Pipeline\n",
    "\n",
    "# Ver distribución original\n",
    "print(\"Distribución original:\", Counter(df[\"TIPACCID\"]))\n",
    "\n",
    "# Muestra del 50%\n",
    "accidentes_sample = df.sample(frac=0.5, random_state=42)\n",
    "X = accidentes_sample.drop([\"TIPACCID\", \"CALLE1\", \"CALLE2\"], axis=1)\n",
    "y = accidentes_sample[\"TIPACCID\"]\n",
    "\n",
    "# --- ESTRATEGIA DE BALANCEO ---\n",
    "under_strategy = {label: count for label, count in [(1, 50000)]}\n",
    "over_strategy = {label: count for label, count in [(4, 25000), (10, 18000), (2, 7000), (11, 2000), (5, 2000), (12, 1900), (7, 1300), (6, 1200), (3, 1000), (9, 900), (8, 500)]\n",
    "                  if label in y.unique()}\n",
    "# Pipeline en 2 pasos\n",
    "pipeline = Pipeline([\n",
    "    ('under', RandomUnderSampler(sampling_strategy=under_strategy, random_state=42)),\n",
    "    ('over', SMOTE(sampling_strategy=over_strategy, k_neighbors=3, random_state=42))\n",
    "])\n",
    "\n",
    "# Aplicar el balanceo\n",
    "X_res, y_res = pipeline.fit_resample(X, y)\n",
    "\n",
    "# Convertir a DataFrame\n",
    "accidentes_balanced = pd.DataFrame(X_res, columns=X.columns)\n",
    "accidentes_balanced[\"TIPACCID\"] = y_res\n",
    "\n",
    "# Ver distribución final\n",
    "print(\"Distribución después del balanceo:\", Counter(y_res))\n",
    "pipeline = Pipeline([\n",
    "    ('under', RandomUnderSampler(sampling_strategy=under_strategy, random_state=42)),\n",
    "    ('over', SMOTE(sampling_strategy=over_strategy, k_neighbors=3, random_state=42))\n",
    "])\n",
    "\n",
    "# Aplicar el balanceo\n",
    "X_res, y_res = pipeline.fit_resample(X, y)\n",
    "\n",
    "# Convertir a DataFrame\n",
    "accidentes_balanced = pd.DataFrame(X_res, columns=X.columns)\n",
    "accidentes_balanced[\"TIPACCID\"] = y_res\n",
    "\n",
    "# Ver distribución final\n",
    "print(\"Distribución después del balanceo:\", Counter(y_res))"
   ]
  },
  {
   "cell_type": "code",
   "execution_count": null,
   "metadata": {
    "id": "by1PWr4Vc6iD"
   },
   "outputs": [],
   "source": [
    "df_subsampled = accidentes_balanced\n"
   ]
  },
  {
   "cell_type": "code",
   "execution_count": null,
   "metadata": {
    "id": "WKrzJSbYdFaf"
   },
   "outputs": [],
   "source": [
    "df_subsampled = accidentes_balanced  # Assuming accidentes_balanced is your original DataFrame\n",
    "\n",
    "# Now, you can access the 'TIPACCID' column and get value counts:\n",
    "df_subsampled_frequencies = df_subsampled['TIPACCID'].value_counts()\n",
    "\n",
    "# Display the frequencies\n",
    "print(df_subsampled_frequencies)\n"
   ]
  },
  {
   "cell_type": "code",
   "execution_count": null,
   "metadata": {
    "id": "4Crv8hKMa6vZ"
   },
   "outputs": [],
   "source": [
    "import numpy as np\n",
    "import matplotlib.pyplot as plt\n",
    "import folium\n",
    "from sklearn.cluster import KMeans\n",
    "\n",
    "# Re-assign df_subsampled to the original DataFrame containing the necessary columns\n",
    "df_subsampled = accidentes_balanced  # Assuming accidentes_balanced is the original DataFrame\n",
    "\n",
    "# 2. Extraer columnas necesarias\n",
    "X = df_subsampled[['LATITUD', 'LONGITUD', 'TIPACCID']].values  # Use all data, not just head(100)\n",
    "\n",
    "# 3. Definir número de clústeres (ajústalo según análisis)\n",
    "K = 3\n",
    "\n",
    "# 4. Aplicar K-Means\n",
    "kmeans = KMeans(n_clusters=K, random_state=42)\n",
    "df_subsampled['cluster'] = kmeans.fit_predict(X)  # Asignar cluster a cada punto\n",
    "centroids = kmeans.cluster_centers_  # Coordenadas de centroides\n",
    "\n",
    "# 5. Visualizar los resultados en un mapa interactivo\n",
    "m = folium.Map(location=[df_subsampled['LATITUD'].mean(), df_subsampled['LONGITUD'].mean()], zoom_start=10)\n",
    "\n",
    "# Definir colores para cada tipo de accidente\n",
    "# Include all unique TIPACCID values as keys in accident_colors\n",
    "unique_accident_types = df_subsampled['CAUSAACCI'].unique()\n",
    "accident_colors = {acc_type: plt.cm.get_cmap('tab10')(i)  # Use a colormap to get distinct colors\n",
    "                   for i, acc_type in enumerate(unique_accident_types)}\n",
    "\n",
    "for _, row in df_subsampled.iterrows():\n",
    "    # Use .get() to handle missing keys, defaulting to gray\n",
    "    color = accident_colors.get(row['CAUSAACCI'], 'gray')\n",
    "    folium.CircleMarker(\n",
    "        location=[row['LATITUD'], row['LONGITUD']],\n",
    "        radius=4,\n",
    "        color=color,  # Use the retrieved color or gray\n",
    "        fill=True,\n",
    "        fill_color=color,  # Use the retrieved color or gray\n",
    "        fill_opacity=0.6\n",
    "    ).add_to(m)\n",
    "\n",
    "# Agregar centroides de clusters\n",
    "for lat, lon, acc_type in centroids:\n",
    "    folium.Marker(\n",
    "        location=[lat, lon],\n",
    "        icon=folium.Icon(color=\"black\", icon=\"info-sign\"),\n",
    "        popup=f\"Centroide - Tipo {int(acc_type)}\"\n",
    "    ).add_to(m)\n",
    "\n",
    "# Guardar mapa y abrir en navegador\n",
    "m.save(\"mapa_accidentes.html\")\n",
    "\n"
   ]
  },
  {
   "cell_type": "code",
   "execution_count": null,
   "metadata": {
    "id": "6HGG95oFcnMS"
   },
   "outputs": [],
   "source": [
    "# prompt: ver con matplotlib la agrupacion\n",
    "\n",
    "import matplotlib.pyplot as plt\n",
    "\n",
    "plt.figure(figsize=(10, 6))\n",
    "\n",
    "# Itera sobre los clusters\n",
    "for cluster in range(K):\n",
    "    # Use df_subsampled instead of df to access the 'cluster' column\n",
    "    cluster_data = df_subsampled[df_subsampled['cluster'] == cluster]\n",
    "    plt.scatter(cluster_data['LONGITUD'], cluster_data['LATITUD'], label=f'Cluster {cluster}')\n",
    "\n",
    "# Plotea los centroides\n",
    "plt.scatter(centroids[:, 1], centroids[:, 0], marker='*', s=200, c='black', label='Centroides')  # Nota: el índice [:,1] y [:,0] para LONGITUD y LATITUD respectivamente\n",
    "\n",
    "plt.xlabel('Longitud')\n",
    "plt.ylabel('Latitud')\n",
    "plt.title('Agrupación de Accidentes con K-Means')\n",
    "plt.legend()\n",
    "plt.show()"
   ]
  },
  {
   "cell_type": "code",
   "execution_count": null,
   "metadata": {
    "id": "4E4KJS2Wd2xI"
   },
   "outputs": [],
   "source": [
    "\n",
    "# Option 1: Silhouette Score per feature\n",
    "from sklearn.metrics import silhouette_score\n",
    "\n",
    "# Get the column names used for clustering\n",
    "columnas_clustering = ['LATITUD', 'LONGITUD', 'TIPACCID']\n",
    "\n",
    "feature_importances = {}\n",
    "for col in columnas_clustering: # Iterate through column names\n",
    "    kmeans = KMeans(n_clusters=5, random_state=0)\n",
    "    kmeans.fit(df_subsampled[[col]])  # Fit KMeans using only one feature, selecting from df_subsampled\n",
    "    score = silhouette_score(df_subsampled[[col]], kmeans.labels_)\n",
    "    feature_importances[col] = score\n",
    "\n",
    "sorted_features = dict(sorted(feature_importances.items(), key=lambda item: item[1], reverse=True))\n",
    "\n",
    "print(\"variables mas importantes:\")\n",
    "for feature, score in sorted_features.items():\n",
    "    print(f\"{feature}: {score}\")\n",
    "\n",
    "\n"
   ]
  },
  {
   "cell_type": "code",
   "execution_count": null,
   "metadata": {
    "collapsed": true,
    "id": "JeAXQkxKf6OZ"
   },
   "outputs": [],
   "source": [
    "# prompt: crea un df para cada cluster\n",
    "\n",
    "# Create a dictionary to store DataFrames for each cluster\n",
    "cluster_dfs = {}\n",
    "\n",
    "# Iterate through unique cluster labels\n",
    "for cluster_label in df_subsampled['cluster'].unique():\n",
    "    # Create a DataFrame for the current cluster\n",
    "    cluster_dfs[cluster_label] = df_subsampled[df_subsampled['cluster'] == cluster_label]\n",
    "\n",
    "# Access individual cluster DataFrames using their labels (e.g., cluster_dfs[0], cluster_dfs[1], etc.)\n",
    "# Example: Print the first 5 rows of the DataFrame for cluster 0\n",
    "print(cluster_dfs[0].head())\n",
    "\n",
    "# You can now work with each cluster_dfs[i] DataFrame individually\n",
    "# Example: Print some statistics for each cluster\n",
    "for cluster_label, cluster_df in cluster_dfs.items():\n",
    "    print(f\"\\nCluster {cluster_label} Statistics:\")\n",
    "    print(cluster_df.describe())\n"
   ]
  },
  {
   "cell_type": "code",
   "execution_count": null,
   "metadata": {
    "id": "savTsg6UgBko"
   },
   "outputs": [],
   "source": [
    "cluster_dfs[1].head()"
   ]
  },
  {
   "cell_type": "code",
   "execution_count": null,
   "metadata": {
    "id": "epVf8GNagEWc"
   },
   "outputs": [],
   "source": [
    "for i in range(3):\n",
    "  TIP_frequencies = cluster_dfs[i]['TIPACCID'].value_counts()\n",
    "  TIP_frequencies = (TIP_frequencies/TIP_frequencies.sum())*100\n",
    "  print(\"Cluster: \",i, TIP_frequencies)"
   ]
  },
  {
   "cell_type": "code",
   "execution_count": null,
   "metadata": {
    "id": "qxp5WrRWgXUN"
   },
   "outputs": [],
   "source": [
    "for i in range(3):\n",
    "  causa_frequencies = cluster_dfs[i]['CAUSAACCI'].value_counts()\n",
    "  causa_frequencies = (causa_frequencies/causa_frequencies.sum())*100\n",
    "  print(\"Cluster: \",i, causa_frequencies)"
   ]
  },
  {
   "cell_type": "code",
   "execution_count": null,
   "metadata": {
    "id": "VMHjsH2ghVZd"
   },
   "outputs": [],
   "source": [
    "for i in range(3):\n",
    "    tipaccid_heridos = cluster_dfs[i].groupby('TIPACCID')['TOTHERIDOS'].sum()\n",
    "\n",
    "    max_heridos_tipaccid = tipaccid_heridos.idxmax()\n",
    "    max_heridos_count = tipaccid_heridos.max()\n",
    "    total_heridos  = cluster_dfs[i]['TOTHERIDOS'].sum()\n",
    "\n",
    "    print(f\"Cluster {i}:\")\n",
    "    print(f\"TIPACCID con mas heridos: {max_heridos_tipaccid}\")\n",
    "    print(f\"Total Heridos por TIPACCID: {max_heridos_count}\")\n",
    "    print(f\"Total Heridos en el cluster: {total_heridos}\")\n",
    "    print(\"-\" * 20)\n"
   ]
  },
  {
   "cell_type": "code",
   "execution_count": null,
   "metadata": {
    "id": "Rb395T1AiqfK"
   },
   "outputs": [],
   "source": [
    "for i in range(3):\n",
    "    tipaccid_muertos = cluster_dfs[i].groupby('TIPACCID')['TOTMUERTOS'].sum()\n",
    "\n",
    "    max_muertos_tipaccid = tipaccid_muertos.idxmax()\n",
    "    max_muertos_count = tipaccid_muertos.max()\n",
    "    total_muertos  = cluster_dfs[i]['TOTMUERTOS'].sum()\n",
    "\n",
    "    print(f\"Cluster {i}:\")\n",
    "    print(f\"TIPACCID con mas muertos: {max_muertos_tipaccid}\")\n",
    "    print(f\"Total moridos por TIPACCID: {max_muertos_count}\")\n",
    "    print(f\"Total de muertos en el cluster: {total_muertos}\")\n",
    "    print(\"-\" * 20)\n"
   ]
  },
  {
   "cell_type": "code",
   "execution_count": null,
   "metadata": {
    "id": "BxIhv03VjL-X"
   },
   "outputs": [],
   "source": [
    "for i in range(3):\n",
    "  total_accidentes_cluster_0 = len(cluster_dfs[i])\n",
    "  print(f\"El total de accidentes en df_cluster:{i} {total_accidentes_cluster_0}\")\n",
    "  total_accidentes_cluster_0_2 = len(cluster_dfs[i][cluster_dfs[i]['TIPACCID'] == 2])\n",
    "  print(f\"El total de accidentes para peatones en df_cluster:{i}  {total_accidentes_cluster_0_2}\")\n",
    "  total_accidentes_cluster_0_10 = len(cluster_dfs[i][cluster_dfs[i]['TIPACCID'] == 10])\n",
    "  print(f\"El total de accidentes para vehículos en df_cluster:{i}  {total_accidentes_cluster_0_10}\")\n",
    "  total_accidentes_cluster_0_11 = len(cluster_dfs[i][cluster_dfs[i]['TIPACCID'] == 11])\n",
    "  print(f\"El total de accidentes para ciclistas en df_cluster:{i}  {total_accidentes_cluster_0_11}\")"
   ]
  },
  {
   "cell_type": "code",
   "execution_count": null,
   "metadata": {
    "id": "yzflz0tNiw2i"
   },
   "outputs": [],
   "source": [
    "for i in range(3):\n",
    "  frecuencias = cluster_dfs[i]['TIPACCID'].value_counts()\n",
    "  porcentaje = (frecuencias/frecuencias.sum())*100\n",
    "  print(porcentaje)\n"
   ]
  },
  {
   "cell_type": "code",
   "execution_count": null,
   "metadata": {
    "id": "dRmDV7Lki5cR"
   },
   "outputs": [],
   "source": []
  }
 ],
 "metadata": {
  "colab": {
   "provenance": []
  },
  "kernelspec": {
   "display_name": "Python 3 (ipykernel)",
   "language": "python",
   "name": "python3"
  },
  "language_info": {
   "codemirror_mode": {
    "name": "ipython",
    "version": 3
   },
   "file_extension": ".py",
   "mimetype": "text/x-python",
   "name": "python",
   "nbconvert_exporter": "python",
   "pygments_lexer": "ipython3",
   "version": "3.11.7"
  }
 },
 "nbformat": 4,
 "nbformat_minor": 1
}
